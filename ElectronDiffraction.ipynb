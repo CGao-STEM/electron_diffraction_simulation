{
 "cells": [
  {
   "cell_type": "markdown",
   "id": "bea55115-65aa-460a-a053-c91824d0e8fa",
   "metadata": {},
   "source": [
    "# Electron diffraction simulation computation tutorial\n",
    "\n",
    "_This is a step-by-step tutorial walking you through the numeric simulation, requiring minimal domain knowledge._\n",
    "\n",
    "\n",
    "### Electron wavelength\n",
    "\n",
    "Accelerated by a votage of $E_0$, the electron wavelength in vacuum is given by\n",
    "$$\n",
    "\\lambda_0 = \\frac{12.3984244}{\\sqrt{E_0 (E_0+1021.99812)}}\n",
    "$$\n",
    "\n",
    "That is to say, if the acceleration voltage is $120$ KeV, then the wave length is about $0.03349$ Å ($1.0 \\times 10^{-10}$ m).\n",
    "\n",
    "The electrons traveling through the specimen have a bit higher energy, but we ignore their impact in our calculation."
   ]
  },
  {
   "cell_type": "code",
   "execution_count": 1,
   "id": "e3821ee9-71e9-47c3-a532-a09c284d50bb",
   "metadata": {},
   "outputs": [
    {
     "name": "stdout",
     "output_type": "stream",
     "text": [
      "With an acceleration voltage of 120 KeV, the coresponding electron wave length is 0.03349216180963567 ångström.\n"
     ]
    }
   ],
   "source": [
    "import math\n",
    "E_0 = 120 # in keV\n",
    "lambda_0 = 12.3984244/math.sqrt(E_0*(E_0+1021.99812)) # in Å\n",
    "print( f'With an acceleration voltage of {E_0} KeV, the coresponding electron wave length is {lambda_0} ångström.' )"
   ]
  },
  {
   "cell_type": "markdown",
   "id": "bbb0cd09-b39f-41eb-a41f-f6fc7177b2c1",
   "metadata": {},
   "source": [
    "### Select reflections\n",
    "\n",
    "We simulate the diffraction patterns of SrTiO3, thickness 40 nm, maximum tilt angle 40 mrad and orientation $(0, 0, 1)$, with an acceleration voltage of 120 KeV. The indexed diffraction discs (121 reflections) are demonstrated below\n",
    "\n",
    "----\n",
    "\n",
    "![srtio3](./images/SrTiO3_40_40.png)\n",
    "\n",
    "----\n"
   ]
  },
  {
   "cell_type": "markdown",
   "id": "f79e4a66-9711-4489-a094-39dcac4dd74b",
   "metadata": {},
   "source": [
    "\n",
    "\n",
    "\n",
    "The diffraction image above shows 121 diffraction discs, most of which are weak and only 21 of them are visually strong.\n",
    "For ease of demonstration, we simulate the diffraction pattern only with 5 discs coresponding to reflections  $(\\bar{1}, 1, 0)$, $(1, 1, 0)$, $(0, 0, 0)$, $(\\bar{1}, \\bar{1}, 0)$ and $(1, \\bar{1}, 0)$. But it is easy to expand to arbitrary beam numbers.\n",
    "\n",
    "### Structure matrix\n",
    "\n",
    "We first constuct the structure factor matrix $\\mathcal{A}$. "
   ]
  },
  {
   "cell_type": "markdown",
   "id": "f28d1c73-7dff-4dd6-bdad-6bd70139cfb2",
   "metadata": {},
   "source": [
    "We put the corresponding structure factors in the central column of the structure factor matrix $\\mathcal{A}$, as we only select 5 reflections, this matrix is a $5 \\times 5$ squared complex matrix:\n",
    "    \n",
    "$$\\mathcal{A} = \\begin{bmatrix}\n",
    " ? & ? & \\mathbf{u}_{(\\bar{1}, 1, 0)} & ? & ? \\\\\n",
    " ? & ? & \\mathbf{u}_{(1, 1, 0)} & ? & ? \\\\\n",
    " ? & ? & 0 & ? & ? \\\\\n",
    " ? & ? & \\mathbf{u}_{(\\bar{1}, \\bar{1}, 0)} & ? & ? \\\\\n",
    "  ? & ? & \\mathbf{u}_{(1, \\bar{1}, 0)} & ? & ? \\\\\n",
    "\\end{bmatrix}$$    \n",
    "    \n",
    "Please note that the mean inner potential $U_{(0, 0, 0)}$ is ommitted, as it serves as a pure phase factor to all reflections. \n",
    "\n",
    "\n",
    "\n",
    "    "
   ]
  },
  {
   "cell_type": "markdown",
   "id": "dc2abca0-ebc5-482c-915d-071e522207f3",
   "metadata": {},
   "source": [
    "We continue to construct the structure factor matrix $\\mathcal{A}$, we set the rest diagonal elements to be $2\\,k_t \\, s_{(\\bar{1}, 1, 0)}$, $2\\,k_t \\, s_{(1, 1, 0)}$, $2\\,k_t \\, s_{(\\bar{1}, \\bar{1}, 0)}$ and $2\\,k_t \\, s_{(1, \\bar{1}, 0)}$. And we will discuss how to calculate these values later.\n",
    "\n",
    "$$\\mathcal{A} = \\begin{bmatrix}\n",
    " 2\\,k_t \\, s_{(\\bar{1}, 1, 0)} & ? & \\mathbf{u}_{(\\bar{1}, 1, 0)} & ? & ? \\\\\n",
    " ? & 2\\,k_t \\, s_{(1, 1, 0)} & \\mathbf{u}_{(1, 1, 0)} & ? & ? \\\\\n",
    " ? & ? & 0 & ? & ? \\\\\n",
    " ? & ? & \\mathbf{u}_{(\\bar{1}, \\bar{1}, 0)} & 2\\,s_t \\, s_{(\\bar{1}, \\bar{1}, 0)} & ? \\\\\n",
    "  ? & ? & \\mathbf{u}_{(1, \\bar{1}, 0)} & ? & 2\\,k_t \\, s_{(1, \\bar{1}, 0)} \\\\\n",
    "\\end{bmatrix}$$    \n",
    "    \n",
    "Please note, the subscriptions of $s$ are identical to the reflections in the central column.\n",
    "\n",
    " \n",
    "\n",
    "\n",
    "\n",
    "\n"
   ]
  },
  {
   "cell_type": "markdown",
   "id": "1286fd5a-a29d-4153-8fd9-899b2e6dde4b",
   "metadata": {},
   "source": [
    "We determine $\\mathcal{A}[0][1]$ to be $\\mathbf{u}_{(\\bar{2}, 0, 0)}$, as $(\\bar{1}, 1, 0) - (1, 1, 0) = (\\bar{2}, 0, 0)$\n",
    "\n",
    "$$\\mathcal{A} = \\begin{bmatrix}\n",
    " 2\\,k_t \\, s_{(\\bar{1}, 1, 0)} & \\underline{\\mathbf{u}_{(\\bar{2}, 0, 0)}} & \\boxed{ \\mathbf{u}_{(\\bar{1}, 1, 0)} } & ? & ? \\\\\n",
    " ? & 2\\,k_t \\, s_{(1, 1, 0)} & \\boxed{ \\mathbf{u}_{(1, 1, 0)} } & ? & ? \\\\\n",
    " ? & ? & 0 & ? & ? \\\\\n",
    " ? & ? & \\mathbf{u}_{(\\bar{1}, \\bar{1}, 0)} & 2\\,s_t \\, s_{(\\bar{1}, \\bar{1}, 0)} & ? \\\\\n",
    "  ? & ? & \\mathbf{u}_{(1, \\bar{1}, 0)} & ? & 2\\,k_t \\, s_{(1, \\bar{1}, 0)} \\\\\n",
    "\\end{bmatrix}$$  \n",
    "\n",
    "Please note the boxed positions where the reflections are selected to calcuate.\n",
    "\n",
    "\n"
   ]
  },
  {
   "cell_type": "markdown",
   "id": "fe260209-6370-41b1-b661-a3c8c113f329",
   "metadata": {},
   "source": [
    "We determine $\\mathcal{A}[0][3]$ to be $\\mathbf{u}_{(0, \\bar{2}, 0)}$, as $(\\bar{1}, 1, 0) - (\\bar{1}, \\bar{1}, 0) = (0, \\bar{2},  0)$\n",
    "\n",
    "$$\\mathcal{A} = \\begin{bmatrix}\n",
    " 2\\,k_t \\, s_{(\\bar{1}, 1, 0)} & \\mathbf{u}_{(\\bar{2}, 0, 0)} & \\boxed{ \\mathbf{u}_{(\\bar{1}, 1, 0)} } & \\underline{\\mathbf{u}_{(0, \\bar{2}, 0)}} & ? \\\\\n",
    " ? & 2\\,k_t \\, s_{(1, 1, 0)} & \\mathbf{u}_{(1, 1, 0)} & ? & ? \\\\\n",
    " ? & ? & 0 & ? & ? \\\\\n",
    " ? & ? & \\boxed{ \\mathbf{u}_{(\\bar{1}, \\bar{1}, 0)} } & 2\\,s_t \\, s_{(\\bar{1}, \\bar{1}, 0)} & ? \\\\\n",
    "  ? & ? & \\mathbf{u}_{(1, \\bar{1}, 0)} & ? & 2\\,k_t \\, s_{(1, \\bar{1}, 0)} \\\\\n",
    "\\end{bmatrix}$$  \n"
   ]
  },
  {
   "cell_type": "markdown",
   "id": "66b9d92d-37ee-4e50-86b0-e5b4f888b217",
   "metadata": {},
   "source": [
    "We determine $\\mathcal{A}[0][4]$ to be $\\mathbf{u}_{(\\bar{2}, 2, 0)}$, as $(\\bar{1}, 1, 0) - (1, \\bar{1}, 0) = (\\bar{2}, 2, 0)$\n",
    "\n",
    "$$\\mathcal{A} = \\begin{bmatrix}\n",
    " 2\\,k_t \\, s_{(\\bar{1}, 1, 0)} & \\mathbf{u}_{(\\bar{2}, 0, 0)} & \\boxed{ \\mathbf{u}_{(\\bar{1}, 1, 0)} } & \\mathbf{u}_{(0, \\bar{2}, 0)} & \\underline{\\mathbf{u}_{(\\bar{2}, 2, 0)}} \\\\\n",
    " ? & 2\\,k_t \\, s_{(1, 1, 0)} & \\mathbf{u}_{(1, 1, 0)} & ? & ? \\\\\n",
    " ? & ? & 0 & ? & ? \\\\\n",
    " ? & ? & \\mathbf{u}_{(\\bar{1}, \\bar{1}, 0)}  & 2\\,s_t \\, s_{(\\bar{1}, \\bar{1}, 0)} & ? \\\\\n",
    "  ? & ? & \\boxed{ \\mathbf{u}_{(1, \\bar{1}, 0)} } & ? & 2\\,k_t \\, s_{(1, \\bar{1}, 0)} \\\\\n",
    "\\end{bmatrix}$$  \n"
   ]
  },
  {
   "cell_type": "markdown",
   "id": "603de6ed-b16a-45ee-81d3-0f337e056b47",
   "metadata": {},
   "source": [
    "We determine $\\mathcal{A}[1][0]$ to be $\\mathbf{u}_{(2, 0, 0)}$, as $(1, 1, 0) - (\\bar{1}, 1, 0) = ( 2, 0, 0)$\n",
    "\n",
    "$$\\mathcal{A} = \\begin{bmatrix}\n",
    " 2\\,k_t \\, s_{(\\bar{1}, 1, 0)} & \\mathbf{u}_{(\\bar{2}, 0, 0)} & \\boxed{ \\mathbf{u}_{(\\bar{1}, 1, 0)} } & \\mathbf{u}_{(0, \\bar{2}, 0)} & \\mathbf{u}_{(\\bar{2}, 2, 0)} \\\\\n",
    " \\underline{\\mathbf{u}_{(2, 0, 0)}} & 2\\,k_t \\, s_{(1, 1, 0)} & \\boxed{ \\mathbf{u}_{(1, 1, 0)} } & ? & ? \\\\\n",
    " ? & ? & 0 & ? & ? \\\\\n",
    " ? & ? & \\mathbf{u}_{(\\bar{1}, \\bar{1}, 0)}  & 2\\,s_t \\, s_{(\\bar{1}, \\bar{1}, 0)} & ? \\\\\n",
    "  ? & ? & \\mathbf{u}_{(1, \\bar{1}, 0)} & ? & 2\\,k_t \\, s_{(1, \\bar{1}, 0)} \\\\\n",
    "\\end{bmatrix}$$  \n"
   ]
  },
  {
   "cell_type": "markdown",
   "id": "5b12d750-de45-4266-ae57-4eebf9dc9d3f",
   "metadata": {},
   "source": [
    "We determine $\\mathcal{A}[1][3]$ to be $\\mathbf{u}_{(2, 2, 0)}$, as $(1, 1, 0) - (\\bar{1}, \\bar{1}, 0) = ( 2, 2, 0)$\n",
    "\n",
    "$$\\mathcal{A} = \\begin{bmatrix}\n",
    " 2\\,k_t \\, s_{(\\bar{1}, 1, 0)} & \\mathbf{u}_{(\\bar{2}, 0, 0)} & \\mathbf{u}_{(\\bar{1}, 1, 0)} & \\mathbf{u}_{(0, \\bar{2}, 0)} & \\mathbf{u}_{(\\bar{2}, 2, 0)} \\\\\n",
    "\\mathbf{u}_{(2, 0, 0)} & 2\\,k_t \\, s_{(1, 1, 0)} & \\boxed{ \\mathbf{u}_{(1, 1, 0)} } & \\underline{ \\mathbf{u}_{(\\bar{2}, \\bar{2}, 0)}} & ? \\\\\n",
    " ? & ? & 0 & ? & ? \\\\\n",
    " ? & ? & \\boxed{ \\mathbf{u}_{(\\bar{1}, \\bar{1}, 0)} } & 2\\,s_t \\, s_{(\\bar{1}, \\bar{1}, 0)} & ? \\\\\n",
    "  ? & ? & \\mathbf{u}_{(1, \\bar{1}, 0)} & ? & 2\\,k_t \\, s_{(1, \\bar{1}, 0)} \\\\\n",
    "\\end{bmatrix}$$  \n"
   ]
  },
  {
   "cell_type": "markdown",
   "id": "637658f8-caa1-4283-b93f-34c9358490c4",
   "metadata": {},
   "source": [
    "We finally determine all elements in the structure matrix $\\mathcal{A}$:\n",
    "\n",
    "$$\\mathcal{A} = \\begin{bmatrix}\n",
    " 2\\,k_t \\, s_{(\\bar{1}, 1, 0)} & \\mathbf{u}_{(\\bar{2}, 0, 0)} & \\mathbf{u}_{(\\bar{1}, 1, 0)} & \\mathbf{u}_{(0, \\bar{2}, 0)} & \\mathbf{u}_{(\\bar{2}, 2, 0)} \\\\\n",
    "\\mathbf{u}_{(2, 0, 0)} & 2\\,k_t \\, s_{(1, 1, 0)} & \\mathbf{u}_{(1, 1, 0) } & \\mathbf{u}_{(\\bar{2}, \\bar{2}, 0)} & \\mathbf{u}_{(0, 2, 0)} \\\\\n",
    " \\mathbf{u}_{(1, \\bar{1}, 0)} & \\mathbf{u}_{(\\bar{1}, \\bar{1}, 0)} & 0 & \\mathbf{u}_{(1, 1, 0)} & \\mathbf{u}_{(\\bar{1}, 1, 0)} \\\\\n",
    " \\mathbf{u}_{(0, \\bar{2}, 0)} & \\mathbf{u}_{(\\bar{2}, \\bar{2}, 0)} & \\mathbf{u}_{(\\bar{1}, \\bar{1}, 0)} & 2\\,s_t \\, s_{(\\bar{1}, \\bar{1}, 0)} & \\mathbf{u}_{(\\bar{2}, 0, 0)} \\\\\n",
    " \\mathbf{u}_{(2, \\bar{2}, 0)} & \\mathbf{u}_{(0, \\bar{2}, 0)} & \\mathbf{u}_{(1, \\bar{1}, 0)} & \\mathbf{u}_{(2, 0, 0)} & 2\\,k_t \\, s_{(1, \\bar{1}, 0)} \\\\\n",
    "\\end{bmatrix}$$  \n"
   ]
  },
  {
   "cell_type": "markdown",
   "id": "7ba4ac15-5f7f-43e4-99ed-811834375ed5",
   "metadata": {},
   "source": [
    "### Structure factors\n",
    "\n",
    "We character SrTiO$_3$ crystal as follows:\n",
    "\n",
    "1. FCC structure, dimension 3.905 Å$^3$, vertex $(0, 0, 0)$, $(3.905, 0, 0)$ $(0, 3.905, 0)$ $(0, 0, 3.905)$\n",
    "2. Atoms\n",
    "    + Sr\n",
    "        - Z number: 38\n",
    "        - Pf (pengfactor): (1): 1.0127 (2): 2.9403 (3): 3.992 (4): 5.1441 (5): 0.4721 (6): 4.9802 (7): 26.8565 (8): 116.031\n",
    "        - position: $(0, 0, 0)$\n",
    "        - Debye-Waller factor: 0.410576\n",
    "    + Ti\n",
    "        - Z number: 22\n",
    "        - Pf: (1): 0.5398 (2): 2.1568 (3): 2.9961 (4): 3.0751 (5): 0.4281 (6): 4.2236 (7): 24.1928 (8): 90.6685 \n",
    "        - position: $(0.5, 0.5, 0.5)$\n",
    "        - Debye-Waller factor: 0.315827\n",
    "    + O\n",
    "        - Z number: 16\n",
    "        - Pf: (1): 0.1433 (2): 0.5103 (3): 0.937 (4): 0.3923 (5): 0.3055 (6): 2.2683 (7): 8.2625 (8): 25.6645\n",
    "        - positions: $(0, 0.5, 0.5)$, $(0.5, 0, 0.5)$, $(0.5, 0.5, 0)$\n",
    "        - Debye-Waller factor: 0\n",
    "\n",
    "It should be noticed that the scattering factor Pf are taken from _L.M. Peng, Micron 30 (1999) 625-648_.\n",
    "\n",
    "\n"
   ]
  },
  {
   "cell_type": "markdown",
   "id": "58e45279-6ccf-4a03-86ae-2a929cbee049",
   "metadata": {},
   "source": [
    "Now lets calculate the structure factor $\\mathbf{u}_(0, 1, 0)$ on condition of a high tension 120 KeV.\n",
    "\n",
    "We calculate the contribution of the Oxygen atom at position $(0.5, 0.5, 0)$ as follows"
   ]
  },
  {
   "cell_type": "markdown",
   "id": "1d039992-e9ae-4550-b237-db255469b49f",
   "metadata": {},
   "source": [
    "We calculate the coordinate in the reciprocal space\n",
    "$$\n",
    "\\mathbf{g}_{(0, 1, 0)} =\n",
    "\\begin{bmatrix}\n",
    "g_x \\\\\n",
    "g_y \\\\\n",
    "g_z \\\\\n",
    "\\end{bmatrix}\n",
    "=\n",
    "\\begin{bmatrix}\n",
    "3.905, 0, 0 \\\\\n",
    "0, 3.905, 0 \\\\\n",
    "0, 0, 3.905 \\\\\n",
    "\\end{bmatrix}^{-1} \\cdot \n",
    "\\begin{bmatrix}\n",
    "0 \\\\\n",
    "1 \\\\\n",
    "0 \\\\\n",
    "\\end{bmatrix}\n",
    "= \n",
    "\\begin{bmatrix}\n",
    "0 \\\\\n",
    "0.256082 \\\\\n",
    "0 \\\\\n",
    "\\end{bmatrix}\n",
    "$$\n"
   ]
  },
  {
   "cell_type": "markdown",
   "id": "cc728ea9-7afa-449f-8e8c-5df44bfcfd15",
   "metadata": {},
   "source": [
    "We calculate the scattering factor of this Oxygen atom in the first Born approximation\n",
    "\n",
    "$$\n",
    "sf = Pf_{O, 1} \\, e^{-Pf_{O, 5}}\\, \\frac{\\mathbf{g}_{(0, 1, 0)}^T \\cdot \\mathbf{g}_{(0, 1, 0)}}{4} + \\\\\n",
    "Pf_{O, 2} \\, e^{-Pf_{O, 6}}\\, \\frac{\\mathbf{g}_{(0, 1, 0)}^T \\cdot \\mathbf{g}_{(0, 1, 0)}}{4} + \\\\\n",
    "Pf_{O, 3} \\, e^{-Pf_{O, 7}}\\, \\frac{\\mathbf{g}_{(0, 1, 0)}^T \\cdot \\mathbf{g}_{(0, 1, 0)}}{4} +  \\\\\n",
    "Pf_{O, 4} \\, e^{-Pf_{O, 8}}\\, \\frac{\\mathbf{g}_{(0, 1, 0)}^T \\cdot \\mathbf{g}_{(0, 1, 0)}}{4}\n",
    "$$\n",
    "\n",
    "in which $Pf$ is taken from _L.M. Peng, Micron 30 (1999) 625-648_.\n"
   ]
  },
  {
   "cell_type": "code",
   "execution_count": 2,
   "id": "cb6937ac-988e-4fb5-9223-6e24d709edf1",
   "metadata": {},
   "outputs": [
    {
     "name": "stdout",
     "output_type": "stream",
     "text": [
      "The scattering factor for the Oxygen is 1.7101159496240943\n"
     ]
    }
   ],
   "source": [
    "import math\n",
    "sf_o = 0.0\n",
    "Pf_o = [0.0, 0.1433, 0.5103, 0.937, 0.3923, 0.3055, 2.2683, 8.2625, 25.6645]\n",
    "s2 = 0.25 * (0*0 + 0.256082*0.256082 + 0*0)\n",
    "for i in range(1, 5):\n",
    "    sf_o += Pf_o[i] * math.exp( -Pf_o[i+4] * s2 )\n",
    "print( f'The scattering factor for the Oxygen is {sf_o}' )\n"
   ]
  },
  {
   "cell_type": "markdown",
   "id": "c05756df-fe31-4ace-a55b-21cc4862053d",
   "metadata": {},
   "source": [
    "We therefor obtain the contribution from this Oxygen atom \n",
    "\n",
    "$$\n",
    "U_{(0, 1, 0)}( O_{(0.5, 0.5, 0)} ) = sf_o  e^{-\\frac{\\mathbf{g}_{(0, 1, 0)}^T \\cdot \\mathbf{g}_{(0, 1, 0)}}{4} \\,dw_o}  e^{i \\, 2 \\pi  \\,  (0.5, 0.5, 0) \\cdot (0, 1, 0) } \n",
    "$$\n",
    "\n",
    "in whci $dw_o$ is the Debye-Waller factor for Oxygen\n"
   ]
  },
  {
   "cell_type": "code",
   "execution_count": 3,
   "id": "fe2d638b-5c4e-4616-821f-9bf91e6fb1c3",
   "metadata": {},
   "outputs": [
    {
     "name": "stdout",
     "output_type": "stream",
     "text": [
      "The contribution from the first Oxygen atom is (-1.7101159496240943-1.1941675850741058e-14j)\n"
     ]
    }
   ],
   "source": [
    "import cmath\n",
    "\n",
    "dw_o = 0\n",
    "_theta = 2.0 * 3.1415926535898 * ( 0.5 * 0 + 0.5 * 1 + 0 * 0 )\n",
    "s2 = 0.25 * (0*0 + 0.256082*0.256082 + 0*0)\n",
    "u_o1 = sf_o * math.exp(-s2*dw_o) * complex( math.cos(_theta), math.sin(_theta) )\n",
    "print( f'The contribution from the first Oxygen atom is {u_o1}' )\n"
   ]
  },
  {
   "cell_type": "markdown",
   "id": "a8717c98-f926-45d6-8a60-4c2dad1f23ce",
   "metadata": {},
   "source": [
    "We calculate the contribution for the second Oxygen atom, whose position is (0.5, 0, 0.5):\n",
    "\n",
    "\n",
    "\n",
    "$$\n",
    "U_{(0, 1, 0)}( O_{(0.5, 0, 0.5)} ) = sf_o  e^{-\\frac{\\mathbf{g}_{(0, 1, 0)}^T \\cdot \\mathbf{g}_{(0, 1, 0)}}{4} \\,dw_o}  e^{i \\, 2 \\pi  \\,  (0.5,0,  0.5) \\cdot (0, 1, 0) } \n",
    "$$\n",
    "\n",
    "\n"
   ]
  },
  {
   "cell_type": "code",
   "execution_count": 4,
   "id": "41bd7192-94ed-48b7-adc0-a11e75ac0310",
   "metadata": {},
   "outputs": [
    {
     "name": "stdout",
     "output_type": "stream",
     "text": [
      "The contribution from the second Oxygen atom is (1.7101159496240943+0j)\n"
     ]
    }
   ],
   "source": [
    "dw_o = 0\n",
    "_theta = 2.0 * 3.1415926535898 * ( 0.5 * 0 + 0 * 1 + 0.5 * 0 )\n",
    "s2 = 0.25 * (0*0 + 0.256082*0.256082 + 0*0)\n",
    "u_o2 = sf_o * math.exp(-s2*dw_o) * complex( math.cos(_theta), math.sin(_theta) )\n",
    "print( f'The contribution from the second Oxygen atom is {u_o2}' )"
   ]
  },
  {
   "cell_type": "markdown",
   "id": "753cab03-cbf8-4034-8e72-8e7ee109e8cf",
   "metadata": {},
   "source": [
    "We calculate the contribution for the third Oxygen atom, whose position is (0, 0.5 0.5):\n",
    "\n",
    "\n",
    "\n",
    "$$\n",
    "U_{(0, 1, 0)}( O_{(0, 0.5, 0.5)} ) = sf_o  e^{-\\frac{\\mathbf{g}_{(0, 1, 0)}^T \\cdot \\mathbf{g}_{(0, 1, 0)}}{4} \\,dw_o}  e^{i \\, 2 \\pi  \\,  (0, 0.5,  0.5) \\cdot (0, 1, 0) } \n",
    "$$\n"
   ]
  },
  {
   "cell_type": "code",
   "execution_count": 5,
   "id": "6b341fe2-4b79-4cbe-9562-4f0f076f1f92",
   "metadata": {},
   "outputs": [
    {
     "name": "stdout",
     "output_type": "stream",
     "text": [
      "The contribution from the third Oxygen atom is (-1.7101159496240943-1.1941675850741058e-14j)\n"
     ]
    }
   ],
   "source": [
    "dw_o = 0\n",
    "_theta = 2.0 * 3.1415926535898 * ( 0 * 0 + 0.5 * 1 + 0.5 * 0 )\n",
    "s2 = 0.25 * (0*0 + 0.256082*0.256082 + 0*0)\n",
    "u_o3 = sf_o * math.exp(-s2*dw_o) * complex( math.cos(_theta), math.sin(_theta) )\n",
    "print( f'The contribution from the third Oxygen atom is {u_o3}' )"
   ]
  },
  {
   "cell_type": "markdown",
   "id": "2cc8d6a8-a4e2-407f-af97-bc8e158ff963",
   "metadata": {},
   "source": [
    "We calculate the scattering factor of this Titanium atom in the first Born approximation\n",
    "\n",
    "$$\n",
    "sf = Pf_{Ti, 1} \\, e^{-Pf_{Ti, 5}}\\, \\frac{\\mathbf{g}_{(0, 1, 0)}^T \\cdot \\mathbf{g}_{(0, 1, 0)}}{4} + \\\\\n",
    "Pf_{Ti, 2} \\, e^{-Pf_{Ti, 6}}\\, \\frac{\\mathbf{g}_{(0, 1, 0)}^T \\cdot \\mathbf{g}_{(0, 1, 0)}}{4} + \\\\\n",
    "Pf_{Ti, 3} \\, e^{-Pf_{Ti, 7}}\\, \\frac{\\mathbf{g}_{(0, 1, 0)}^T \\cdot \\mathbf{g}_{(0, 1, 0)}}{4} +  \\\\\n",
    "Pf_{Ti, 4} \\, e^{-Pf_{Ti, 8}}\\, \\frac{\\mathbf{g}_{(0, 1, 0)}^T \\cdot \\mathbf{g}_{(0, 1, 0)}}{4}\n",
    "$$\n"
   ]
  },
  {
   "cell_type": "code",
   "execution_count": 6,
   "id": "5c37cb62-0d90-4c94-a95b-2bc8c20ba1b6",
   "metadata": {},
   "outputs": [
    {
     "name": "stdout",
     "output_type": "stream",
     "text": [
      "The scattering factor for the Titanium is 5.2591588390086565\n"
     ]
    }
   ],
   "source": [
    "sf_ti = 0.0\n",
    "Pf_ti = [ 0, 0.5398, 2.1568, 2.9961, 3.0751, 0.4281, 4.2236, 24.1928, 90.6685 ]\n",
    "s2 = 0.25 * (0*0 + 0.256082*0.256082 + 0*0)\n",
    "for i in range(1, 5):\n",
    "    sf_ti += Pf_ti[i] * math.exp( -Pf_ti[i+4] * s2 )\n",
    "print( f'The scattering factor for the Titanium is {sf_ti}' )"
   ]
  },
  {
   "cell_type": "markdown",
   "id": "e7d1e9eb-47ab-4769-a00f-dfc29f835214",
   "metadata": {},
   "source": [
    "We calculate the contribution for the Titanium atom, whose position is (0.5, 0.5 0.5):\n",
    "\n",
    "\n",
    "\n",
    "$$\n",
    "U_{(0, 1, 0)}( Ti_{(0.5, 0.5, 0.5)} ) = sf_ti  e^{-\\frac{\\mathbf{g}_{(0, 1, 0)}^T \\cdot \\mathbf{g}_{(0, 1, 0)}}{4} \\,dw_{ti}}  e^{i \\, 2 \\pi  \\,  (0, 0.5,  0.5) \\cdot (0, 1, 0) } \n",
    "$$\n"
   ]
  },
  {
   "cell_type": "code",
   "execution_count": 7,
   "id": "a09e47bd-1a9b-45d8-bd83-27821fd4c1a8",
   "metadata": {},
   "outputs": [
    {
     "name": "stdout",
     "output_type": "stream",
     "text": [
      "The contribution from the Titanium atom is (-5.231998211960813-3.653484824384364e-14j)\n"
     ]
    }
   ],
   "source": [
    "dw_ti = 0.315827\n",
    "_theta = 2.0 * 3.1415926535898 * ( 0.5 * 0 + 0.5 * 1 + 0.5 * 0 )\n",
    "s2 = 0.25 * (0*0 + 0.256082*0.256082 + 0*0)\n",
    "u_ti = sf_ti * math.exp(-s2*dw_ti) * complex( math.cos(_theta), math.sin(_theta) )\n",
    "print( f'The contribution from the Titanium atom is {u_ti}' )"
   ]
  },
  {
   "cell_type": "markdown",
   "id": "7348d66f-0b72-4435-9653-c0fbbcfbea55",
   "metadata": {},
   "source": [
    "We calculate the scattering factor of this Strontium atom in the first Born approximation\n",
    "\n",
    "$$\n",
    "sf = Pf_{Sr, 1} \\, e^{-Pf_{Sr, 5}}\\, \\frac{\\mathbf{g}_{(0, 1, 0)}^T \\cdot \\mathbf{g}_{(0, 1, 0)}}{4} + \\\\\n",
    "Pf_{Sr, 2} \\, e^{-Pf_{Sr, 6}}\\, \\frac{\\mathbf{g}_{(0, 1, 0)}^T \\cdot \\mathbf{g}_{(0, 1, 0)}}{4} + \\\\\n",
    "Pf_{Sr, 3} \\, e^{-Pf_{Sr, 7}}\\, \\frac{\\mathbf{g}_{(0, 1, 0)}^T \\cdot \\mathbf{g}_{(0, 1, 0)}}{4} +  \\\\\n",
    "Pf_{Sr, 4} \\, e^{-Pf_{Sr, 8}}\\, \\frac{\\mathbf{g}_{(0, 1, 0)}^T \\cdot \\mathbf{g}_{(0, 1, 0)}}{4}\n",
    "$$"
   ]
  },
  {
   "cell_type": "code",
   "execution_count": 8,
   "id": "27cd5d40-3974-45e9-b9f2-f75a0fad99a6",
   "metadata": {},
   "outputs": [
    {
     "name": "stdout",
     "output_type": "stream",
     "text": [
      "The scattering factor for the Strontium is 7.0525387022144885\n"
     ]
    }
   ],
   "source": [
    "sf_sr = 0.0\n",
    "Pf_sr = [ 0,  1.0127, 2.9403, 3.992, 5.1441, 0.4721, 4.9802, 26.8565, 116.031 ]\n",
    "s2 = 0.25 * (0*0 + 0.256082*0.256082 + 0*0)\n",
    "for i in range(1, 5):\n",
    "    sf_sr += Pf_sr[i] * math.exp( -Pf_sr[i+4] * s2 )\n",
    "print( f'The scattering factor for the Strontium is {sf_sr}' )"
   ]
  },
  {
   "cell_type": "markdown",
   "id": "dc03cab4-95a0-45ec-9c69-3fea6c2adcf8",
   "metadata": {},
   "source": [
    "We calculate the contribution for the Strontium atom, whose position is (0, 0, 0):\n",
    "\n",
    "\n",
    "\n",
    "$$\n",
    "U_{(0, 1, 0)}( Sr_{(0, 0, 0)} ) = sf_ti  e^{-\\frac{\\mathbf{g}_{(0, 1, 0)}^T \\cdot \\mathbf{g}_{(0, 1, 0)}}{4} \\,dw_{ti}}  e^{i \\, 2 \\pi  \\,  (0, 0,  0) \\cdot (0, 1, 0) } \n",
    "$$"
   ]
  },
  {
   "cell_type": "code",
   "execution_count": 9,
   "id": "8cb5faf0-94f8-42dc-9979-332dd2382f76",
   "metadata": {},
   "outputs": [
    {
     "name": "stdout",
     "output_type": "stream",
     "text": [
      "The contribution from the Strontium atom is (7.005226156852824+0j)\n"
     ]
    }
   ],
   "source": [
    "dw_sr = 0.410576\n",
    "_theta = 2.0 * 3.1415926535898 * ( 0 * 0 + 0 * 1 + 0 * 0 )\n",
    "s2 = 0.25 * (0*0 + 0.256082*0.256082 + 0*0)\n",
    "u_sr = sf_sr * math.exp(-s2*dw_sr) * complex( math.cos(_theta), math.sin(_theta) )\n",
    "print( f'The contribution from the Strontium atom is {u_sr}' )"
   ]
  },
  {
   "cell_type": "markdown",
   "id": "d0b0a9f3-30da-45d7-81c8-485a9c6bffac",
   "metadata": {},
   "source": [
    "Summing up all contributions, we get the structure factor $\\mathbf{u}_{(0, 1, 0)}$ with a factor\n",
    "\n",
    "$$\n",
    "\\mathbf{u}_{(0, 1, 0)} = ( \\mathbf{u}_{O1} + \\mathbf{u}_{O1} + \\mathbf{u}_{O1} + \\mathbf{u}_{Ti} + \\mathbf{u}_{Sr} ) \\frac{511+V}{511 \\, \\Omega \\, \\pi}\n",
    "$$\n",
    "\n",
    "in which $V$ is high tension in KeV, and $\\Omega$ is the volume of the unit cell.\n",
    "\n"
   ]
  },
  {
   "cell_type": "code",
   "execution_count": 10,
   "id": "34b22509-14ab-41bd-969d-f8d6cd4a650a",
   "metadata": {},
   "outputs": [
    {
     "name": "stdout",
     "output_type": "stream",
     "text": [
      "The structure factor for reflection (0, 1, 0) is (0.00041658860144866427-3.988074423954121e-16j)\n"
     ]
    }
   ],
   "source": [
    "u_0_1_0 = (u_o1+u_o2+u_o3+u_ti+u_sr) * (511.0+120.0)/(511.0*3.14159265*3.905*3.905*3.905)\n",
    "print( f'The structure factor for reflection (0, 1, 0) is {u_0_1_0}' )"
   ]
  },
  {
   "cell_type": "markdown",
   "id": "1a5d62ec-e4e4-4573-87ae-39be256844a6",
   "metadata": {},
   "source": [
    "In a same way, we calculate the structure factor coresponding to reflection $(0, 2, 0)$.\n",
    "We calculate the coordinate in the reciprocal space\n",
    "$$\n",
    "\\mathbf{g}_{(0, 2, 0)} =\n",
    "\\begin{bmatrix}\n",
    "g_x \\\\\n",
    "g_y \\\\\n",
    "g_z \\\\\n",
    "\\end{bmatrix}\n",
    "=\n",
    "\\begin{bmatrix}\n",
    "3.905, 0, 0 \\\\\n",
    "0, 3.905, 0 \\\\\n",
    "0, 0, 3.905 \\\\\n",
    "\\end{bmatrix}^{-1} \\cdot \n",
    "\\begin{bmatrix}\n",
    "0 \\\\\n",
    "2 \\\\\n",
    "0 \\\\\n",
    "\\end{bmatrix}\n",
    "= \n",
    "\\begin{bmatrix}\n",
    "0 \\\\\n",
    "0.512164 \\\\\n",
    "0 \\\\\n",
    "\\end{bmatrix}\n",
    "$$\n"
   ]
  },
  {
   "cell_type": "code",
   "execution_count": 11,
   "id": "866f8b74-dd39-4201-b7d0-6ec295f561b3",
   "metadata": {},
   "outputs": [
    {
     "name": "stdout",
     "output_type": "stream",
     "text": [
      "The scattering factor for the Oxygen is 1.1981522073765374\n",
      "get s2: 0.06557796318125257\n",
      "The contribution from the first Oxygen atom is (1.1981522073765374+1.6733304292595553e-14j)\n",
      "The contribution from the second Oxygen atom is (1.1981522073765374+0j)\n",
      "The contribution from the third Oxygen atom is (1.1981522073765374+1.6733304292595553e-14j)\n",
      "The scattering factor for the Titanium is 2.781030400418762\n",
      "The contribution from the Titanium atom is (2.724024044847086+3.804351647657437e-14j)\n",
      "The scattering factor for the Strontium is 3.7914311616948275\n",
      "The contribution from the Strontium atom is (3.690709903154659+0j)\n",
      "The structure factor for reflection [0, 2, 0] is (0.06606849749470538+4.720228359511909e-16j)\n"
     ]
    }
   ],
   "source": [
    "g = [0, 2, 0]\n",
    "\n",
    "\n",
    "xyz = [ g[0]/3.905+g[1]*0+g[2]*0, g[0]*0+g[1]/3.905+g[2]*0, g[0]*0+g[1]*0+g[2]/3.905 ]\n",
    "s2 = 0.25 * (xyz[0]*xyz[0]+xyz[1]*xyz[1]+xyz[2]*xyz[2])\n",
    "\n",
    "sf_o = 0.0\n",
    "Pf_o = [0.0, 0.1433, 0.5103, 0.937, 0.3923, 0.3055, 2.2683, 8.2625, 25.6645]\n",
    "for i in range(1, 5):\n",
    "    sf_o += Pf_o[i] * math.exp( -Pf_o[i+4] * s2 )\n",
    "print( f'The scattering factor for the Oxygen is {sf_o}' )\n",
    "\n",
    "dw_o\n",
    "_theta_o1 = 2.0 * 3.1415926535898 * ( 0.5 * g[0] + 0.5 * g[1] + 0 * g[2] )\n",
    "print( f'get s2: {s2}' )\n",
    "u_o1 = sf_o * math.exp(-s2*dw_o) * complex( math.cos(_theta_o1), math.sin(_theta_o1) )\n",
    "print( f'The contribution from the first Oxygen atom is {u_o1}' )\n",
    "\n",
    "_theta_o2 = 2.0 * 3.1415926535898 * ( 0.5 * g[0] + 0 * g[1] + 0.5 * g[2] )\n",
    "u_o2 = sf_o * math.exp(-s2*dw_o) * complex( math.cos(_theta_o2), math.sin(_theta_o2) )\n",
    "print( f'The contribution from the second Oxygen atom is {u_o2}' )\n",
    "\n",
    "_theta_o3 = 2.0 * 3.1415926535898 * ( 0 * g[0] + 0.5 * g[1] + 0.5 * g[2] )\n",
    "u_o3 = sf_o * math.exp(-s2*dw_o) * complex( math.cos(_theta_o3), math.sin(_theta_o3) )\n",
    "print( f'The contribution from the third Oxygen atom is {u_o3}' )\n",
    "\n",
    "\n",
    "sf_ti = 0.0\n",
    "Pf_ti = [ 0, 0.5398, 2.1568, 2.9961, 3.0751, 0.4281, 4.2236, 24.1928, 90.6685 ]\n",
    "for i in range(1, 5):\n",
    "    sf_ti += Pf_ti[i] * math.exp( -Pf_ti[i+4] * s2 )\n",
    "print( f'The scattering factor for the Titanium is {sf_ti}' )\n",
    "\n",
    "dw_ti = 0.315827\n",
    "_theta_ti = 2.0 * 3.1415926535898 * ( 0.5 * g[0] + 0.5 * g[1] + 0.5 * g[2] )\n",
    "u_ti = sf_ti * math.exp(-s2*dw_ti) * complex( math.cos(_theta_ti), math.sin(_theta_ti) )\n",
    "print( f'The contribution from the Titanium atom is {u_ti}' )\n",
    "\n",
    "sf_sr = 0.0\n",
    "Pf_sr = [ 0,  1.0127, 2.9403, 3.992, 5.1441, 0.4721, 4.9802, 26.8565, 116.031 ]\n",
    "for i in range(1, 5):\n",
    "    sf_sr += Pf_sr[i] * math.exp( -Pf_sr[i+4] * s2 )\n",
    "print( f'The scattering factor for the Strontium is {sf_sr}' )\n",
    "\n",
    "dw_sr = 0.410576\n",
    "_theta_sr = 2.0 * 3.1415926535898 * ( 0 * g[0] + 0 * g[1] + 0 * g[2] )\n",
    "u_sr = sf_sr * math.exp(-s2*dw_sr) * complex( math.cos(_theta_sr), math.sin(_theta_sr) )\n",
    "print( f'The contribution from the Strontium atom is {u_sr}' )\n",
    "      \n",
    "      \n",
    "ans = (u_o1+u_o2+u_o3+u_ti+u_sr) * (511.0+120.0)/(511.0*3.14159265*3.905*3.905*3.905)\n",
    "print( f'The structure factor for reflection {g} is {ans}' )\n"
   ]
  },
  {
   "cell_type": "markdown",
   "id": "b626972b-9c12-41b3-984d-fc9950fc6597",
   "metadata": {},
   "source": [
    "Rewriting the subroutine above as a function that takes $\\mathbf{g}$ as input, we have"
   ]
  },
  {
   "cell_type": "code",
   "execution_count": 12,
   "id": "47ad6da7-545f-4d44-ba16-2fcbcbe20d2e",
   "metadata": {},
   "outputs": [],
   "source": [
    "def calculate_ug( g ):\n",
    "    xyz = [ g[0]/3.905+g[1]*0+g[2]*0, g[0]*0+g[1]/3.905+g[2]*0, g[0]*0+g[1]*0+g[2]/3.905 ]\n",
    "    s2 = 0.25 * (xyz[0]*xyz[0]+xyz[1]*xyz[1]+xyz[2]*xyz[2])\n",
    "\n",
    "    sf_o = 0.0\n",
    "    Pf_o = [0.0, 0.1433, 0.5103, 0.937, 0.3923, 0.3055, 2.2683, 8.2625, 25.6645]\n",
    "    for i in range(1, 5):\n",
    "        sf_o += Pf_o[i] * math.exp( -Pf_o[i+4] * s2 )\n",
    "    #print( f'The scattering factor for the Oxygen is {sf_o}' )\n",
    "\n",
    "    dw_o\n",
    "    _theta_o1 = 2.0 * 3.1415926535898 * ( 0.5 * g[0] + 0.5 * g[1] + 0 * g[2] )\n",
    "    #print( f'get s2: {s2}' )\n",
    "    u_o1 = sf_o * math.exp(-s2*dw_o) * complex( math.cos(_theta_o1), math.sin(_theta_o1) )\n",
    "    #print( f'The contribution from the first Oxygen atom is {u_o1}' )\n",
    "\n",
    "    _theta_o2 = 2.0 * 3.1415926535898 * ( 0.5 * g[0] + 0 * g[1] + 0.5 * g[2] )\n",
    "    u_o2 = sf_o * math.exp(-s2*dw_o) * complex( math.cos(_theta_o2), math.sin(_theta_o2) )\n",
    "    #print( f'The contribution from the second Oxygen atom is {u_o2}' )\n",
    "\n",
    "    _theta_o3 = 2.0 * 3.1415926535898 * ( 0 * g[0] + 0.5 * g[1] + 0.5 * g[2] )\n",
    "    u_o3 = sf_o * math.exp(-s2*dw_o) * complex( math.cos(_theta_o3), math.sin(_theta_o3) )\n",
    "    #print( f'The contribution from the third Oxygen atom is {u_o3}' )\n",
    "\n",
    "\n",
    "    sf_ti = 0.0\n",
    "    Pf_ti = [ 0, 0.5398, 2.1568, 2.9961, 3.0751, 0.4281, 4.2236, 24.1928, 90.6685 ]\n",
    "    for i in range(1, 5):\n",
    "        sf_ti += Pf_ti[i] * math.exp( -Pf_ti[i+4] * s2 )\n",
    "    #print( f'The scattering factor for the Titanium is {sf_ti}' )\n",
    "\n",
    "    dw_ti = 0.315827\n",
    "    _theta_ti = 2.0 * 3.1415926535898 * ( 0.5 * g[0] + 0.5 * g[1] + 0.5 * g[2] )\n",
    "    u_ti = sf_ti * math.exp(-s2*dw_ti) * complex( math.cos(_theta_ti), math.sin(_theta_ti) )\n",
    "    #print( f'The contribution from the Titanium atom is {u_ti}' )\n",
    "\n",
    "    sf_sr = 0.0\n",
    "    Pf_sr = [ 0,  1.0127, 2.9403, 3.992, 5.1441, 0.4721, 4.9802, 26.8565, 116.031 ]\n",
    "    for i in range(1, 5):\n",
    "        sf_sr += Pf_sr[i] * math.exp( -Pf_sr[i+4] * s2 )\n",
    "    #print( f'The scattering factor for the Strontium is {sf_sr}' )\n",
    "\n",
    "    dw_sr = 0.410576\n",
    "    _theta_sr = 2.0 * 3.1415926535898 * ( 0 * g[0] + 0 * g[1] + 0 * g[2] )\n",
    "    u_sr = sf_sr * math.exp(-s2*dw_sr) * complex( math.cos(_theta_sr), math.sin(_theta_sr) )\n",
    "    #print( f'The contribution from the Strontium atom is {u_sr}' )\n",
    "\n",
    "\n",
    "    ans = (u_o1+u_o2+u_o3+u_ti+u_sr) * (511.0+120.0)/(511.0*3.14159265*3.905*3.905*3.905)\n",
    "    #print( f'The structure factor for reflection {g} is {ans}' )\n",
    "    return ans"
   ]
  },
  {
   "cell_type": "markdown",
   "id": "ba631b5d-443d-4c93-90bb-647cc162739b",
   "metadata": {},
   "source": [
    "And we are able to work out all the structure factors in the structure matrix $\\mathcal{A}$"
   ]
  },
  {
   "cell_type": "code",
   "execution_count": 13,
   "id": "b3f66646-4dbe-4776-bbb4-1480a259f1d0",
   "metadata": {},
   "outputs": [
    {
     "name": "stdout",
     "output_type": "stream",
     "text": [
      "u_(-2, -2, 0) = (0.04491475729167272-6.441319249171e-16j)\n",
      "u_(-2, -1, 0) = (-0.0014912349996597481+4.31843585050379e-16j)\n",
      "u_(-2, 0, 0) = (0.06606849749470538-4.720228359511909e-16j)\n",
      "u_(-2, 1, 0) = (-0.0014912349996597481+1.0300970716402575e-17j)\n",
      "u_(-2, 2, 0) = (0.04491475729167272+0j)\n",
      "u_(-1, -2, 0) = (-0.0014912349996597481+4.31843585050379e-16j)\n",
      "u_(-1, -1, 0) = (0.05001082596051881-3.579009236898845e-16j)\n",
      "u_(-1, 0, 0) = (0.00041659031445320305+3.988074902030808e-16j)\n",
      "u_(-1, 1, 0) = (0.05001082596051881+0j)\n",
      "u_(-1, 2, 0) = (-0.0014912349996597481-1.0300970716402575e-17j)\n",
      "u_(0, -2, 0) = (0.06606849749470538-4.720228359511909e-16j)\n",
      "u_(0, -1, 0) = (0.00041659031445320305+3.988074902030808e-16j)\n",
      "u_(0, 0, 0) = (0.1835387388287753+0j)\n",
      "u_(0, 1, 0) = (0.00041659031445320305-3.988074902030808e-16j)\n",
      "u_(0, 2, 0) = (0.06606849749470538+4.720228359511909e-16j)\n",
      "u_(1, -2, 0) = (-0.0014912349996597481+1.0300970716402575e-17j)\n",
      "u_(1, -1, 0) = (0.05001082596051881+0j)\n",
      "u_(1, 0, 0) = (0.00041659031445320305-3.988074902030808e-16j)\n",
      "u_(1, 1, 0) = (0.05001082596051881+3.579009236898845e-16j)\n",
      "u_(1, 2, 0) = (-0.0014912349996597481-4.31843585050379e-16j)\n",
      "u_(2, -2, 0) = (0.04491475729167272+0j)\n",
      "u_(2, -1, 0) = (-0.0014912349996597481-1.0300970716402575e-17j)\n",
      "u_(2, 0, 0) = (0.06606849749470538+4.720228359511909e-16j)\n",
      "u_(2, 1, 0) = (-0.0014912349996597481-4.31843585050379e-16j)\n",
      "u_(2, 2, 0) = (0.04491475729167272+6.441319249171e-16j)\n"
     ]
    }
   ],
   "source": [
    "for h in [-2, -1, 0, 1, 2]:\n",
    "    for k in [-2, -1, 0, 1, 2]:\n",
    "        u = (h, k, 0)\n",
    "        ug = calculate_ug( u )\n",
    "        print( f'u_{u} = {ug}' )"
   ]
  },
  {
   "cell_type": "markdown",
   "id": "bbd87b80-49a7-4741-8de4-865c1e9883f5",
   "metadata": {},
   "source": [
    "### Excitation errors\n",
    "\n",
    "We calculate the diagonal elements in the structure matrix $\\mathcal{A}$. $2\\,k_t \\, s_{(1, 1, 0)}$ can be approximated to\n",
    "\n",
    "$$\n",
    "2\\,k_t \\, s_{(1, 1, 0)} = - 1*1 - 1*1 - 2.0*1*\\frac{\\sin(\\theta_x * 0.001)}{\\lambda} - 2.0*1*\\frac{\\sin(\\theta_y * 0.001)}{\\lambda}\n",
    "$$\n",
    "\n",
    "in which $\\theta_x$ and $\\theta_y$ are incident beam tilt angles in x and y direction, and $\\lambda$ is the wave length. \n",
    "\n",
    "Given a tilt angle of (3 mrad, 10 mrad), we have\n",
    "\n"
   ]
  },
  {
   "cell_type": "code",
   "execution_count": 14,
   "id": "1198b43a-357d-451c-90ef-2dcac4cd376c",
   "metadata": {},
   "outputs": [
    {
     "name": "stdout",
     "output_type": "stream",
     "text": [
      "For (1, 1, 0), the coresponding diagonal element is -0.3299499897220892\n"
     ]
    }
   ],
   "source": [
    "t_x, t_y = 3.0, 10.0\n",
    "g = (1, 1, 0)\n",
    "xyz = [ g[0]/3.905+g[1]*0+g[2]*0, g[0]*0+g[1]/3.905+g[2]*0, g[0]*0+g[1]*0+g[2]/3.905 ]\n",
    "ans = -xyz[0]*xyz[0] - xyz[1]*xyz[1] - 2.0*xyz[0]*math.sin(t_x*0.001)/lambda_0  - 2.0*xyz[1]*math.sin(t_y*0.001)/lambda_0\n",
    "print( f'For {g}, the coresponding diagonal element is {ans}' )"
   ]
  },
  {
   "cell_type": "markdown",
   "id": "ab1e4780-48d5-4a18-a788-4d7645170a75",
   "metadata": {},
   "source": [
    "Rewriting as a function taking reflection $g$ and tilt angle $\\theta$ as inputs, we have"
   ]
  },
  {
   "cell_type": "code",
   "execution_count": 15,
   "id": "ef1f4a98-e1f7-446b-a30a-01b142a83236",
   "metadata": {},
   "outputs": [],
   "source": [
    "def calculate_diag( g, theta ):\n",
    "    t_x, t_y, _ = theta\n",
    "    xyz = [ g[0]/3.905+g[1]*0+g[2]*0, g[0]*0+g[1]/3.905+g[2]*0, g[0]*0+g[1]*0+g[2]/3.905 ]\n",
    "    ans = -xyz[0]*xyz[0] - xyz[1]*xyz[1] - 2.0*xyz[0]*math.sin(t_x*0.001)/lambda_0  - 2.0*xyz[1]*math.sin(t_y*0.001)/lambda_0\n",
    "    return ans"
   ]
  },
  {
   "cell_type": "code",
   "execution_count": 16,
   "id": "805a443b-33e5-40c4-a733-9362a84b5d9f",
   "metadata": {},
   "outputs": [
    {
     "name": "stdout",
     "output_type": "stream",
     "text": [
      "Diag_(-1, -1, 0) = 0.480485390528094\n",
      "Diag_(-1, 1, 0) = -0.13115592636250514\n",
      "Diag_(1, -1, 0) = -0.13115592636250517\n",
      "Diag_(1, 1, 0) = -0.7427972432531044\n"
     ]
    }
   ],
   "source": [
    "for h in [-1, 1]:\n",
    "    for k in [-1, 1]:\n",
    "        g = (h, k, 0)\n",
    "        theta = (20, 20, 0)\n",
    "        diag = calculate_diag( g, theta )\n",
    "        print( f'Diag_{g} = {diag}' )"
   ]
  },
  {
   "cell_type": "markdown",
   "id": "a379ab3b-7438-45a1-87ba-ee7eef74a4ab",
   "metadata": {},
   "source": [
    "In case of tilt angle of (20 mrad, 20mrad), we determine the structure matrix $\\mathcal{A}$:\n",
    "\n",
    "$$\\mathcal{A} = \\begin{bmatrix}\n",
    " 2\\,k_t \\, s_{(\\bar{1}, 1, 0)} & \\mathbf{u}_{(\\bar{2}, 0, 0)} & \\mathbf{u}_{(\\bar{1}, 1, 0)} & \\mathbf{u}_{(0, \\bar{2}, 0)} & \\mathbf{u}_{(\\bar{2}, 2, 0)} \\\\\n",
    "\\mathbf{u}_{(2, 0, 0)} & 2\\,k_t \\, s_{(1, 1, 0)} & \\mathbf{u}_{(1, 1, 0) } & \\mathbf{u}_{(\\bar{2}, \\bar{2}, 0)} & \\mathbf{u}_{(0, 2, 0)} \\\\\n",
    " \\mathbf{u}_{(1, \\bar{1}, 0)} & \\mathbf{u}_{(\\bar{1}, \\bar{1}, 0)} & 0 & \\mathbf{u}_{(1, 1, 0)} & \\mathbf{u}_{(\\bar{1}, 1, 0)} \\\\\n",
    " \\mathbf{u}_{(0, \\bar{2}, 0)} & \\mathbf{u}_{(\\bar{2}, \\bar{2}, 0)} & \\mathbf{u}_{(\\bar{1}, \\bar{1}, 0)} & 2\\,s_t \\, s_{(\\bar{1}, \\bar{1}, 0)} & \\mathbf{u}_{(\\bar{2}, 0, 0)} \\\\\n",
    " \\mathbf{u}_{(2, \\bar{2}, 0)} & \\mathbf{u}_{(0, \\bar{2}, 0)} & \\mathbf{u}_{(1, \\bar{1}, 0)} & \\mathbf{u}_{(2, 0, 0)} & 2\\,k_t \\, s_{(1, \\bar{1}, 0)} \\\\\n",
    "\\end{bmatrix} \\\\\n",
    "= \\begin{bmatrix}\n",
    "-0.1311559  & 0.06606849749470538 & 0.05001082596051881 & 0.06606849749470538 & 0.06606849749470538 \\\\\n",
    "0.06606849749470538 & -0.742797 & 0.05001082596051881 & 0.04491475729167272 & 0.06606849749470538 \\\\\n",
    " 0.05001082596051881 & 0.05001082596051881 & 0 & 0.05001082596051881 & 0.05001082596051881 \\\\\n",
    " 0.06606849749470538 & 0.04491475729167272 & 0.05001082596051881 & 0.48048539 & 0.06606849749470538 \\\\\n",
    "0.04491475729167272 & 0.06606849749470538 & 0.05001082596051881 & 0.06606849749470538 & -0.1311559 \\\\\n",
    "\\end{bmatrix}\n",
    "$$  "
   ]
  },
  {
   "cell_type": "markdown",
   "id": "898d794d-79e1-4190-be94-4b88e2b98609",
   "metadata": {},
   "source": [
    "### Scattering matrix\n",
    "\n",
    "\n",
    "We can use the numpy package to calculate the scattering matrix $\\mathcal{S}$, which can be approximated by\n",
    "\n",
    "$$\n",
    "\\mathcal{S} = e^{i \\, \\pi \\lambda  t \\mathcal{A}}\n",
    "$$\n",
    "\n",
    "in which $t$ is the thickness of the specimen, and $\\lambda$ is the wavelength\n",
    "\n"
   ]
  },
  {
   "cell_type": "code",
   "execution_count": 17,
   "id": "b4f962bb-de9b-4204-841f-2cc9ba7af3b4",
   "metadata": {},
   "outputs": [
    {
     "name": "stdout",
     "output_type": "stream",
     "text": [
      "With a tilt angle of (10, -10, 0), we get the structure matrix A\n",
      "[[ 0.17468002+0.00000000e+00j  0.0660685 -4.72022836e-16j\n",
      "   0.05001083+0.00000000e+00j  0.0660685 -4.72022836e-16j\n",
      "   0.04491476+0.00000000e+00j]\n",
      " [ 0.0660685 +4.72022836e-16j -0.13115593+0.00000000e+00j\n",
      "   0.05001083+3.57900924e-16j  0.04491476-6.44131925e-16j\n",
      "   0.0660685 +4.72022836e-16j]\n",
      " [ 0.05001083+0.00000000e+00j  0.05001083-3.57900924e-16j\n",
      "   0.        +0.00000000e+00j  0.05001083+3.57900924e-16j\n",
      "   0.05001083+0.00000000e+00j]\n",
      " [ 0.0660685 -4.72022836e-16j  0.04491476-6.44131925e-16j\n",
      "   0.05001083-3.57900924e-16j -0.13115593+0.00000000e+00j\n",
      "   0.0660685 -4.72022836e-16j]\n",
      " [ 0.04491476+0.00000000e+00j  0.0660685 -4.72022836e-16j\n",
      "   0.05001083+0.00000000e+00j  0.0660685 +4.72022836e-16j\n",
      "  -0.43699188+0.00000000e+00j]]\n"
     ]
    }
   ],
   "source": [
    "import numpy as np\n",
    "\n",
    "A = np.zeros((5,5),dtype=np.complex_)\n",
    "theta = (10, -10, 0)\n",
    "\n",
    "\n",
    "A[0][0] = calculate_diag( (-1, 1, 0), theta )\n",
    "A[0][1] = calculate_ug( (-2, 0, 0) )\n",
    "A[0][2] = calculate_ug( (-1, 1, 0) )\n",
    "A[0][3] = calculate_ug( (0, -2, 0) )\n",
    "A[0][4] = calculate_ug( (-2, 2, 0) )\n",
    "\n",
    "A[1][0] = calculate_ug( (2, 0, 0) )\n",
    "A[1][1] = calculate_diag( (1, 1, 0), theta )\n",
    "A[1][2] = calculate_ug( (1, 1, 0) )\n",
    "A[1][3] = calculate_ug( (-2, -2, 0) )\n",
    "A[1][4] = calculate_ug( (0, 2, 0) )\n",
    "\n",
    "A[2][0] = calculate_ug( (1, -1, 0) )\n",
    "A[2][1] = calculate_ug( (-1, -1, 0) )\n",
    "A[2][2] = 0\n",
    "A[2][3] = calculate_ug( (1, 1, 0) )\n",
    "A[2][4] = calculate_ug( (-1, 1, 0) )\n",
    "\n",
    "A[3][0] = calculate_ug( (0, -2, 0) )\n",
    "A[3][1] = calculate_ug( (-2, -2, 0) ) \n",
    "A[3][2] = calculate_ug( (-1, -1, 0) )\n",
    "A[3][3] = calculate_diag( (-1, -1, 0), theta )\n",
    "A[3][4] = calculate_ug( (-2, 0, 0) )\n",
    "\n",
    "A[4][0] = calculate_ug( (2, -2, 0) )\n",
    "A[4][1] = calculate_ug( (0, -2, 0) ) \n",
    "A[4][2] = calculate_ug( (1, -1, 0) )\n",
    "A[4][3] = calculate_ug( (2, 0, 0) )\n",
    "A[4][4] = calculate_diag( (1, -1, 0), theta )\n",
    "\n",
    "print( f'With a tilt angle of {theta}, we get the structure matrix A' )\n",
    "print( A )\n",
    "\n",
    "\n"
   ]
  },
  {
   "cell_type": "code",
   "execution_count": 18,
   "id": "c117a396-ac80-4494-a8d6-27c2720f0a73",
   "metadata": {},
   "outputs": [
    {
     "name": "stdout",
     "output_type": "stream",
     "text": [
      "i \\pi \\lambda t A is \n",
      "[[ 0.00000000e+00 +7.35184406j  1.98662572e-14 +2.78065734j\n",
      "   0.00000000e+00 +2.10483022j  1.98662572e-14 +2.78065734j\n",
      "   0.00000000e+00 +1.89034948j]\n",
      " [-1.98662572e-14 +2.78065734j -0.00000000e+00 -5.52002397j\n",
      "  -1.50631522e-14 +2.10483022j  2.71098971e-14 +1.89034948j\n",
      "  -1.98662572e-14 +2.78065734j]\n",
      " [ 0.00000000e+00 +2.10483022j  1.50631522e-14 +2.10483022j\n",
      "   0.00000000e+00 +0.j         -1.50631522e-14 +2.10483022j\n",
      "   0.00000000e+00 +2.10483022j]\n",
      " [ 1.98662572e-14 +2.78065734j  2.71098971e-14 +1.89034948j\n",
      "   1.50631522e-14 +2.10483022j -0.00000000e+00 -5.52002397j\n",
      "   1.98662572e-14 +2.78065734j]\n",
      " [ 0.00000000e+00 +1.89034948j  1.98662572e-14 +2.78065734j\n",
      "   0.00000000e+00 +2.10483022j -1.98662572e-14 +2.78065734j\n",
      "  -0.00000000e+00-18.391892j  ]]\n"
     ]
    }
   ],
   "source": [
    "t = 400 # 40 nm\n",
    "\n",
    "_A =  1j * 3.14159265 * lambda_0 * t * A\n",
    "\n",
    "print( f'i \\pi \\lambda t A is ' )\n",
    "print(  _A )\n",
    "\n",
    "\n"
   ]
  },
  {
   "cell_type": "markdown",
   "id": "3b5536c3-6edc-436b-ab19-dc7096c20c41",
   "metadata": {},
   "source": [
    "Due to the fact that \n",
    "\n",
    "$$\n",
    "e^A = e^{A/2} e^{A/2} = \\big( e^{A/2} \\big)^2 = \\big( e^{A/4} \\big)^4 = \\big( e^{A/8} \\big)^8 = \\big( e^{A/16} \\big)^{16} \\ldots\n",
    "$$\n",
    "\n",
    "As all elements in matrix $i\\pi \\lambda t \\mathcal{A}$ are not very large, \n",
    "We approximate the S matrix directly when $||\\mathcal{A}||_2$ is mall\n",
    "\n",
    "$$\n",
    "e^A \\simeq I + A + \\frac{A^2}{2!} + \\frac{A^3}{3!} + \\frac{A^4}{4!}+ \\frac{A^5}{5!} + \\ldots\n",
    "$$\n",
    "\n",
    "\n",
    "And when $||\\mathcal{A}||_2$ is large, we scale it, calculate the exponential and then square back\n",
    "\n"
   ]
  },
  {
   "cell_type": "code",
   "execution_count": 19,
   "id": "401058a9-c8c6-4994-9c3f-0766ad417782",
   "metadata": {},
   "outputs": [
    {
     "name": "stdout",
     "output_type": "stream",
     "text": [
      "The scattering matrix S is\n",
      "[[-0.40425601-0.34053538j -0.35663335-0.24448523j -0.52391433-0.17441914j\n",
      "  -0.35663335-0.24448523j -0.19138644-0.08344857j]\n",
      " [-0.35663335-0.24448523j  0.47125649-0.21711702j -0.06291532-0.20818557j\n",
      "   0.04189212+0.68623795j -0.0725352 +0.14413899j]\n",
      " [-0.52391433-0.17441914j -0.06291532-0.20818557j  0.72900587+0.25935033j\n",
      "  -0.06291532-0.20818557j -0.04646589-0.01450244j]\n",
      " [-0.35663335-0.24448523j  0.04189212+0.68623795j -0.06291532-0.20818557j\n",
      "   0.47125649-0.21711702j -0.0725352 +0.14413899j]\n",
      " [-0.19138644-0.08344857j -0.0725352 +0.14413899j -0.04646589-0.01450244j\n",
      "  -0.0725352 +0.14413899j  0.83471844-0.52546471j]]\n"
     ]
    }
   ],
   "source": [
    "n = 5\n",
    "B = [_A/16.0,]\n",
    "for i in range(n):\n",
    "    B.append( np.dot( B[0], B[-1] ) )# [A, A^2, A^3, A^4, A^5, ...]\n",
    "    \n",
    "I = np.zeros((5,5),dtype=np.complex_)\n",
    "for idx in range(5):\n",
    "    I[idx][idx] = 1.0+0j\n",
    "\n",
    "    \n",
    "# e^A = I + A + A^2/2! + A^3/3! + A^4/4! + A^5/5!    \n",
    "factor = 1.0\n",
    "S = I\n",
    "for i in range( n ):\n",
    "    S += B[i] / factor\n",
    "    factor *= i+2\n",
    "\n",
    "#e^A = (e^{A/16})^16    \n",
    "for i in range( 4 ):\n",
    "    S = np.dot( S, S )\n",
    "    \n",
    "    \n",
    "print( 'The scattering matrix S is' )\n",
    "print( S )"
   ]
  },
  {
   "cell_type": "markdown",
   "id": "3678b325-89a0-4a51-9cfe-adb86e0babf5",
   "metadata": {},
   "source": [
    "### Simulate the intensity\n",
    "\n",
    "As we put the selected beams/reflections  $(\\bar{1}, 1, 0)$, $(1, 1, 0)$, $(0, 0, 0)$, $(\\bar{1}, \\bar{1}, 0)$ and $(1, \\bar{1}, 0)$ in the central column of the structure matrix $\\mathcal{A}$,\n",
    "we extract the diffraction intensities for these discs from the central colum as well"
   ]
  },
  {
   "cell_type": "code",
   "execution_count": 20,
   "id": "5136c098-afd2-4413-9e21-ad4e9ef02644",
   "metadata": {},
   "outputs": [
    {
     "name": "stdout",
     "output_type": "stream",
     "text": [
      "[0.30490826383309705, 0.04729956976719501, 0.5987121567016069, 0.047299569767194134, 0.0023693994288727996]\n"
     ]
    }
   ],
   "source": [
    "I = [abs(S[i, 2])**2 for i in range(5)]\n",
    "print( I )"
   ]
  },
  {
   "cell_type": "markdown",
   "id": "d642ec59-3a10-475d-99d3-1d2e78fa7ad5",
   "metadata": {},
   "source": [
    "As we are assume elastic diffraction, in which no energy loss is expected. We check the total energy after diffraction"
   ]
  },
  {
   "cell_type": "code",
   "execution_count": 21,
   "id": "07e71a68-c560-4850-b42f-c4a3890567e9",
   "metadata": {},
   "outputs": [
    {
     "name": "stdout",
     "output_type": "stream",
     "text": [
      "total_energy=1.000588959497966\n"
     ]
    }
   ],
   "source": [
    "total_energy = np.sum( np.asarray(I) )\n",
    "print( f'{total_energy=}' )"
   ]
  },
  {
   "cell_type": "markdown",
   "id": "57ea0b27-7933-44b6-9b79-0ad482d2b531",
   "metadata": {},
   "source": [
    "Putting the intensity simulation subroutine together, we have a function taking the tilt angle $\\theta$ as argument"
   ]
  },
  {
   "cell_type": "code",
   "execution_count": 22,
   "id": "3b68a03b-ac6b-4183-b4b0-146f6280df32",
   "metadata": {},
   "outputs": [],
   "source": [
    "def simulate_intensity(theta):\n",
    "    A[0][0] = calculate_diag( (-1, 1, 0), theta )\n",
    "    A[0][1] = calculate_ug( (-2, 0, 0) )\n",
    "    A[0][2] = calculate_ug( (-1, 1, 0) )\n",
    "    A[0][3] = calculate_ug( (0, -2, 0) )\n",
    "    A[0][4] = calculate_ug( (-2, 2, 0) )\n",
    "\n",
    "    A[1][0] = calculate_ug( (2, 0, 0) )\n",
    "    A[1][1] = calculate_diag( (1, 1, 0), theta )\n",
    "    A[1][2] = calculate_ug( (1, 1, 0) )\n",
    "    A[1][3] = calculate_ug( (-2, -2, 0) )\n",
    "    A[1][4] = calculate_ug( (0, 2, 0) )\n",
    "\n",
    "    A[2][0] = calculate_ug( (1, -1, 0) )\n",
    "    A[2][1] = calculate_ug( (-1, -1, 0) )\n",
    "    A[2][2] = 0\n",
    "    A[2][3] = calculate_ug( (1, 1, 0) )\n",
    "    A[2][4] = calculate_ug( (-1, 1, 0) )\n",
    "\n",
    "    A[3][0] = calculate_ug( (0, -2, 0) )\n",
    "    A[3][1] = calculate_ug( (-2, -2, 0) ) \n",
    "    A[3][2] = calculate_ug( (-1, -1, 0) )\n",
    "    A[3][3] = calculate_diag( (-1, -1, 0), theta )\n",
    "    A[3][4] = calculate_ug( (-2, 0, 0) )\n",
    "\n",
    "    A[4][0] = calculate_ug( (2, -2, 0) )\n",
    "    A[4][1] = calculate_ug( (0, -2, 0) ) \n",
    "    A[4][2] = calculate_ug( (1, -1, 0) )\n",
    "    A[4][3] = calculate_ug( (2, 0, 0) )\n",
    "    A[4][4] = calculate_diag( (1, -1, 0), theta )\n",
    "\n",
    "    t = 400 \n",
    "    _A =  1j * 3.14159265 * lambda_0 * t * A\n",
    "\n",
    "    n = 5\n",
    "    B = [_A/16.0,]\n",
    "    for i in range(n):\n",
    "        B.append( np.dot( B[0], B[-1] ) )# [A, A^2, A^3, A^4, A^5, ...]\n",
    "\n",
    "    I = np.zeros((5,5),dtype=np.complex_)\n",
    "    for idx in range(5):\n",
    "        I[idx][idx] = 1.0+0j\n",
    " \n",
    "    factor = 1.0\n",
    "    S = I\n",
    "    for i in range( n ):\n",
    "        S += B[i] / factor\n",
    "        factor *= i+2\n",
    "   \n",
    "    for i in range( 4 ):\n",
    "        S = np.dot( S, S )    \n",
    "        \n",
    "    I = [abs(S[i, 2])**2 for i in range(5)] \n",
    "    return I"
   ]
  },
  {
   "cell_type": "markdown",
   "id": "e32e24f8-61fc-46db-a0c0-be7cc26d57f0",
   "metadata": {},
   "source": [
    "### All intensities in a disk\n",
    "\n",
    "We enumerate all possible integer tilt angles with in range 40 mrad"
   ]
  },
  {
   "cell_type": "code",
   "execution_count": 23,
   "id": "b3faa3bf-dfd7-4129-ac2b-db2b91962497",
   "metadata": {},
   "outputs": [
    {
     "name": "stdout",
     "output_type": "stream",
     "text": [
      "Generate 5023 tilt angles, the first one is [-40, 0, 0] and the last one is [39, 8, 0]\n"
     ]
    }
   ],
   "source": [
    "angles = []\n",
    "for ax in range(-40, 40):\n",
    "    for ay in range(-40, 40):\n",
    "        if (ax*ax+ay*ay) <= 40*40:\n",
    "            angles.append( [ax, ay, 0] )\n",
    "            \n",
    "print( f'Generate {len(angles)} tilt angles, the first one is {angles[0]} and the last one is {angles[-1]}' )            "
   ]
  },
  {
   "cell_type": "markdown",
   "id": "1e22df8d-6175-4f78-8b03-d525ecf10510",
   "metadata": {},
   "source": [
    "We simulate the scattering intensities for all these tilt angles"
   ]
  },
  {
   "cell_type": "code",
   "execution_count": 24,
   "id": "c856f4da-f5e4-40ff-ba0f-1d4af101abee",
   "metadata": {},
   "outputs": [
    {
     "name": "stderr",
     "output_type": "stream",
     "text": [
      "100% 5023/5023 [00:01<00:00, 3320.88it/s]"
     ]
    },
    {
     "name": "stdout",
     "output_type": "stream",
     "text": [
      "For the tilt angle [-40, 0, 0], we have intensities [0.015585232926935474, 0.01599694142410225, 0.940034886182453, 0.015585232926935505, 0.01599694142410227].\n",
      "For the tilt angle [39, 8, 0], we have intensities [0.03290924099388044, 0.0016095443509783192, 0.9641860728148232, 0.002224385349400596, 0.001121231873035523].\n"
     ]
    },
    {
     "name": "stderr",
     "output_type": "stream",
     "text": [
      "\n"
     ]
    }
   ],
   "source": [
    "import tqdm\n",
    "intensities = []\n",
    "for angle in tqdm.tqdm(angles):\n",
    "    intensities.append( simulate_intensity( angle ) )\n",
    "    \n",
    "print( f'For the tilt angle {angles[0]}, we have intensities {intensities[0]}.' )     \n",
    "print( f'For the tilt angle {angles[-1]}, we have intensities {intensities[-1]}.' )    \n",
    "    "
   ]
  },
  {
   "cell_type": "markdown",
   "id": "8d94b94d-9f37-4065-99cb-c1f72e057ed1",
   "metadata": {},
   "source": [
    "### Visualize simulated intensity\n",
    "\n",
    "We only simulate inteisities for $(\\bar{1}, 1, 0)$, $(1, 1, 0)$, $(0, 0, 0)$, $(\\bar{1}, \\bar{1}, 0)$ and $(1, \\bar{1}, 0)$. We can put all these intensities together to generate a diffraction image. We assume each disk only occupies a dimension of $81 \\times 81$ pixels, and the whole image then occupies $3 \\times 81 \\times 3 \\times 81$ pixels."
   ]
  },
  {
   "cell_type": "code",
   "execution_count": 25,
   "id": "05eaa4fb-caf0-41dd-8715-52e3bf1d6890",
   "metadata": {},
   "outputs": [],
   "source": [
    "image = np.zeros( (3*81, 3*81) )"
   ]
  },
  {
   "cell_type": "markdown",
   "id": "124fd08e-63bf-4e6e-a46b-6d7fa6b48d4d",
   "metadata": {},
   "source": [
    "We put the intensities for reflection $(\\bar{1}, 1, 0)$ on the top-left of this image"
   ]
  },
  {
   "cell_type": "code",
   "execution_count": 26,
   "id": "e92a9c95-e922-40da-ad59-7dc612386d0b",
   "metadata": {},
   "outputs": [],
   "source": [
    "for angle, intensity in zip(angles, intensities):\n",
    "    ax, ay, _ = angle\n",
    "    i = intensity[0]\n",
    "    image[ax+40, ay+40+2*81] = i"
   ]
  },
  {
   "cell_type": "markdown",
   "id": "91e2be70-c6a8-4da4-bf8f-add6df8a28ea",
   "metadata": {},
   "source": [
    "We put the intensities for reflection $(1, 1, 0)$ on the top-right of this image"
   ]
  },
  {
   "cell_type": "code",
   "execution_count": 27,
   "id": "64c42d60-faf7-4bdc-b84f-ca2cb2ca005a",
   "metadata": {},
   "outputs": [],
   "source": [
    "for angle, intensity in zip(angles, intensities):\n",
    "    ax, ay, _ = angle\n",
    "    i = intensity[1]\n",
    "    image[ax+40+2*81, ay+40+2*81] = i"
   ]
  },
  {
   "cell_type": "markdown",
   "id": "8557aeae-9ba0-4e57-ba28-d059e3532456",
   "metadata": {},
   "source": [
    "We put the intensities for reflection $(0, 0, 0)$ on the center of this image"
   ]
  },
  {
   "cell_type": "code",
   "execution_count": 28,
   "id": "a5c79474-71a2-4edd-9a9f-215901cb4fb0",
   "metadata": {},
   "outputs": [],
   "source": [
    "for angle, intensity in zip(angles, intensities):\n",
    "    ax, ay, _ = angle\n",
    "    i = intensity[2]\n",
    "    image[ax+40+1*81, ay+40+1*81] = i"
   ]
  },
  {
   "cell_type": "markdown",
   "id": "8ef58d7a-83eb-4c6c-b2a9-897022885b8b",
   "metadata": {},
   "source": [
    "We put the intensities for reflection $(\\bar{1}, \\bar{1}, 0)$ on the bottom-left of the image"
   ]
  },
  {
   "cell_type": "code",
   "execution_count": 29,
   "id": "9ed0601f-f6f7-470a-b001-c980682238f5",
   "metadata": {},
   "outputs": [],
   "source": [
    "for angle, intensity in zip(angles, intensities):\n",
    "    ax, ay, _ = angle\n",
    "    i = intensity[3]\n",
    "    image[ax+40, ay+40] = i"
   ]
  },
  {
   "cell_type": "markdown",
   "id": "683ac57a-75c9-44f5-ac67-145afe5dffd7",
   "metadata": {},
   "source": [
    "And we put the intensities for reflection $(1, \\bar{1}, 0)$ on the bottom-right of the image"
   ]
  },
  {
   "cell_type": "code",
   "execution_count": 30,
   "id": "a128cf60-2bb0-40a2-ab17-e548e9806355",
   "metadata": {},
   "outputs": [],
   "source": [
    "for angle, intensity in zip(angles, intensities):\n",
    "    ax, ay, _ = angle\n",
    "    i = intensity[4]\n",
    "    image[ax+40+2*81, ay+40] = i"
   ]
  },
  {
   "cell_type": "markdown",
   "id": "695b6a1a-ec94-4d73-bb0b-facea2e8571b",
   "metadata": {},
   "source": [
    "We visualize our image"
   ]
  },
  {
   "cell_type": "code",
   "execution_count": 31,
   "id": "143a8a34-7a51-41bf-8098-4839feb516d9",
   "metadata": {},
   "outputs": [
    {
     "data": {
      "image/png": "[encoded data removed]",
      "text/plain": [
       "<Figure size 640x480 with 1 Axes>"
      ]
     },
     "metadata": {},
     "output_type": "display_data"
    }
   ],
   "source": [
    "%matplotlib inline\n",
    "import matplotlib.pyplot as plt\n",
    "\n",
    "imgplot = plt.imshow(image)"
   ]
  },
  {
   "cell_type": "markdown",
   "id": "24feaedd-7b22-4cbc-9842-8a129427ea57",
   "metadata": {},
   "source": [
    "### Notes\n",
    "\n",
    "- Please find most recent version from here:\n",
    "- Please submit your questions, suggestions and error reports to:\n",
    "\n",
    "\n",
    "\n"
   ]
  }
 ],
 "metadata": {
  "kernelspec": {
   "display_name": "Python 3 (ipykernel)",
   "language": "python",
   "name": "python3"
  },
  "language_info": {
   "codemirror_mode": {
    "name": "ipython",
    "version": 3
   },
   "file_extension": ".py",
   "mimetype": "text/x-python",
   "name": "python",
   "nbconvert_exporter": "python",
   "pygments_lexer": "ipython3",
   "version": "3.8.15"
  }
 },
 "nbformat": 4,
 "nbformat_minor": 5
}
